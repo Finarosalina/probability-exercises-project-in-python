{
 "cells": [
  {
   "cell_type": "markdown",
   "id": "a41f3622",
   "metadata": {},
   "source": [
    "# Ejercicios de probabilidad"
   ]
  },
  {
   "cell_type": "markdown",
   "id": "a6bdbd89",
   "metadata": {},
   "source": [
    "## Ejercicio 1 \n",
    "\n",
    "Dos dados se lanzan una vez y se observa el total obtenido. Usa una simulación para encontrar la probabilidad estimada de que la puntuación sea mayor a 7 o un número par. Una simulación es una repetición del mismo experimento multiples veces para observar su comportamiento:\n",
    "\n",
    "- Ejecuta el experimento 1000 veces (lanza 2 dados 1000 veces, y suma el número de ambos dados).\n",
    "- Lleva ua cuenta de los números y las veces que la suma fue mayor a 7 o un número par.\n",
    "- Divide el número del paso 2 entre el número de iteraciones(1000)."
   ]
  },
  {
   "cell_type": "code",
   "execution_count": 8,
   "id": "8939d892",
   "metadata": {},
   "outputs": [
    {
     "name": "stdout",
     "output_type": "stream",
     "text": [
      "La probabilidad estimada de que la suma sea mayor a 7 o un número par es: 0.648\n",
      "La suma total de todas las tiradas es: 6974\n",
      "Número de veces en las que la suma de la tirada fue mayor a 7 o un número par: 648\n",
      "Las tiradas exitosas fueron: [(6, 3), (6, 3), (6, 2), (6, 5), (1, 5), (5, 1), (2, 4), (3, 1), (6, 5), (6, 2), (2, 4), (1, 5), (5, 3), (3, 3), (3, 5), (3, 5), (3, 5), (5, 4), (4, 2), (1, 1), (6, 2), (5, 4), (3, 6), (4, 5), (1, 3), (3, 3), (3, 5), (6, 6), (3, 5), (5, 1), (5, 1), (1, 3), (3, 1), (3, 3), (5, 6), (5, 4), (4, 4), (6, 4), (2, 4), (4, 4), (6, 4), (6, 4), (5, 1), (6, 2), (2, 4), (4, 5), (5, 3), (5, 5), (5, 6), (5, 1), (6, 5), (3, 6), (1, 3), (2, 6), (5, 3), (6, 4), (6, 2), (4, 6), (6, 3), (4, 5), (3, 3), (4, 4), (6, 3), (5, 5), (3, 1), (1, 5), (1, 1), (1, 3), (5, 1), (1, 1), (5, 5), (4, 2), (5, 3), (3, 1), (5, 5), (5, 3), (5, 4), (6, 4), (4, 6), (3, 3), (2, 4), (4, 2), (6, 3), (1, 1), (3, 3), (1, 5), (6, 6), (1, 3), (2, 2), (3, 1), (5, 6), (1, 1), (6, 4), (2, 4), (4, 4), (1, 3), (1, 3), (2, 6), (3, 1), (2, 6), (4, 4), (6, 6), (6, 3), (1, 1), (6, 4), (6, 4), (1, 5), (3, 5), (6, 2), (1, 1), (6, 5), (3, 6), (3, 5), (5, 5), (5, 5), (6, 5), (5, 1), (6, 4), (3, 1), (4, 2), (4, 5), (3, 5), (2, 4), (4, 4), (6, 3), (2, 4), (5, 6), (5, 6), (5, 5), (5, 6), (1, 1), (2, 4), (5, 3), (6, 2), (6, 6), (5, 3), (1, 3), (5, 1), (6, 6), (2, 2), (3, 6), (6, 2), (3, 3), (6, 3), (4, 4), (6, 4), (3, 1), (3, 6), (1, 1), (5, 1), (6, 2), (5, 5), (6, 4), (6, 3), (5, 3), (1, 3), (5, 6), (3, 5), (2, 6), (3, 5), (5, 5), (1, 3), (4, 4), (5, 1), (3, 5), (5, 4), (6, 3), (3, 1), (6, 5), (4, 2), (1, 1), (6, 5), (4, 5), (5, 1), (6, 2), (6, 2), (6, 4), (2, 2), (5, 3), (4, 4), (5, 5), (1, 5), (3, 6), (1, 1), (6, 2), (6, 2), (6, 2), (3, 5), (6, 5), (4, 5), (4, 6), (6, 2), (5, 5), (1, 5), (1, 1), (3, 5), (3, 5), (6, 5), (2, 2), (5, 1), (5, 4), (4, 5), (2, 2), (5, 1), (5, 5), (6, 3), (4, 2), (5, 6), (2, 6), (4, 2), (3, 6), (5, 5), (5, 4), (6, 3), (1, 1), (5, 4), (1, 1), (3, 3), (3, 6), (6, 3), (6, 5), (4, 2), (5, 4), (2, 2), (6, 3), (6, 4), (5, 6), (4, 2), (6, 3), (4, 6), (4, 5), (4, 6), (4, 5), (4, 6), (2, 4), (2, 2), (3, 6), (2, 6), (4, 4), (6, 2), (4, 2), (4, 5), (3, 3), (3, 3), (6, 6), (5, 3), (6, 6), (3, 5), (6, 6), (6, 5), (1, 1), (5, 6), (3, 6), (1, 5), (5, 1), (6, 5), (5, 4), (2, 2), (1, 1), (1, 5), (6, 3), (1, 3), (5, 3), (4, 6), (1, 5), (2, 6), (4, 6), (3, 5), (2, 6), (3, 1), (3, 3), (5, 6), (6, 4), (3, 3), (2, 2), (6, 5), (4, 2), (5, 3), (6, 2), (5, 4), (4, 5), (5, 4), (6, 5), (6, 3), (3, 1), (2, 4), (5, 1), (4, 5), (3, 1), (4, 2), (2, 4), (2, 6), (2, 2), (5, 6), (5, 5), (2, 6), (5, 5), (2, 4), (2, 6), (5, 5), (5, 4), (2, 4), (5, 5), (5, 1), (6, 5), (2, 6), (1, 3), (6, 5), (6, 6), (4, 4), (6, 6), (1, 5), (3, 3), (2, 4), (6, 3), (4, 6), (6, 6), (4, 6), (6, 2), (4, 6), (6, 3), (5, 1), (2, 2), (3, 1), (3, 3), (6, 2), (4, 5), (3, 3), (2, 2), (2, 2), (3, 6), (6, 6), (6, 3), (3, 3), (3, 3), (2, 2), (2, 6), (6, 6), (3, 1), (6, 4), (5, 3), (1, 3), (3, 5), (5, 3), (6, 6), (5, 3), (4, 6), (3, 1), (6, 6), (4, 2), (6, 5), (5, 1), (6, 6), (6, 5), (3, 6), (1, 3), (5, 6), (3, 6), (5, 4), (6, 4), (5, 5), (6, 4), (3, 3), (5, 5), (5, 3), (3, 6), (4, 6), (4, 5), (3, 1), (4, 2), (6, 2), (6, 6), (6, 3), (6, 2), (4, 2), (5, 5), (5, 1), (4, 6), (4, 5), (2, 4), (5, 4), (4, 4), (6, 3), (2, 2), (6, 4), (5, 4), (4, 6), (3, 5), (5, 4), (6, 3), (3, 3), (1, 5), (3, 3), (6, 4), (5, 5), (3, 1), (5, 5), (2, 4), (5, 1), (1, 1), (4, 2), (1, 1), (2, 4), (1, 3), (2, 6), (2, 6), (4, 5), (6, 4), (1, 1), (6, 6), (6, 3), (6, 6), (5, 5), (3, 1), (2, 2), (5, 5), (3, 6), (1, 3), (1, 3), (5, 4), (5, 1), (5, 3), (6, 3), (4, 2), (1, 1), (2, 2), (1, 5), (6, 4), (4, 4), (1, 1), (5, 4), (4, 6), (5, 1), (6, 6), (6, 3), (4, 6), (4, 4), (3, 6), (1, 3), (6, 4), (3, 3), (3, 1), (1, 3), (6, 2), (6, 4), (2, 2), (3, 3), (4, 4), (6, 2), (6, 4), (3, 3), (3, 5), (4, 2), (2, 4), (2, 2), (1, 3), (1, 1), (2, 2), (5, 4), (1, 1), (1, 5), (1, 3), (2, 6), (5, 4), (3, 1), (3, 6), (2, 6), (6, 4), (6, 4), (4, 5), (5, 3), (6, 5), (2, 6), (6, 6), (3, 5), (4, 4), (3, 3), (1, 1), (5, 5), (6, 6), (1, 3), (6, 5), (2, 6), (2, 2), (5, 1), (5, 1), (5, 5), (4, 4), (6, 6), (5, 6), (4, 5), (4, 2), (5, 4), (3, 1), (3, 3), (6, 5), (4, 5), (6, 5), (2, 2), (3, 1), (3, 6), (6, 6), (4, 4), (1, 5), (5, 1), (6, 5), (3, 5), (4, 6), (4, 6), (5, 3), (1, 1), (6, 3), (5, 4), (2, 6), (5, 3), (2, 6), (5, 6), (5, 6), (6, 6), (3, 6), (3, 1), (6, 6), (3, 5), (4, 5), (3, 6), (1, 5), (5, 3), (5, 5), (6, 2), (5, 4), (1, 3), (3, 5), (6, 4), (4, 2), (5, 6), (5, 4), (3, 6), (3, 1), (5, 5), (6, 3), (6, 5), (5, 4), (3, 6), (6, 4), (2, 4), (6, 2), (2, 4), (4, 2), (5, 6), (6, 5), (5, 1), (5, 4), (5, 4), (3, 5), (5, 1), (3, 5), (4, 4), (4, 2), (4, 5), (4, 2), (1, 3), (1, 3), (4, 4), (5, 5), (3, 3), (5, 4), (4, 2), (3, 1), (3, 1), (5, 3), (5, 5), (1, 5), (6, 4), (3, 1), (5, 3), (5, 3), (4, 4), (3, 5), (1, 1), (5, 4), (2, 6), (6, 5), (4, 2), (3, 3), (6, 3), (3, 5), (3, 3), (4, 4), (4, 4), (2, 2), (6, 5), (6, 6), (4, 4), (2, 4), (3, 3), (4, 2), (3, 6), (2, 6), (5, 5), (4, 2), (2, 4), (6, 2), (2, 2), (4, 5), (1, 5), (5, 4), (4, 4), (3, 5), (4, 4), (6, 5), (2, 6), (3, 6), (4, 6), (6, 3), (2, 4), (4, 2), (6, 4), (1, 1), (1, 1), (5, 4), (4, 5), (4, 5), (4, 5), (5, 3), (3, 1), (2, 2), (6, 5), (4, 2), (6, 4), (4, 6), (5, 3), (3, 3), (2, 4), (6, 5), (4, 4), (4, 2), (1, 5), (6, 6), (2, 2), (6, 2), (2, 2), (2, 2), (3, 6), (3, 3), (4, 4), (4, 5), (3, 5), (5, 6)]\n"
     ]
    }
   ],
   "source": [
    "import numpy as np\n",
    "import numpy as np\n",
    "\n",
    "def simulacion_dados(n):\n",
    "    exitos = 0  # (cuando la suma es > 7 o par)\n",
    "    suma_total = 0  #  suma total de las tiradas\n",
    "    lista_exitos = []  # Lista para almacenar las tiradas exitosas\n",
    "    \n",
    "    for _ in range(n):\n",
    "        dado1 = np.random.randint(1, 7) \n",
    "        dado2 = np.random.randint(1, 7) \n",
    "        suma = dado1 + dado2  \n",
    "        suma_total += suma \n",
    "\n",
    "        # Exitos: si la suma es mayor a 7 o si es un número par\n",
    "        if suma > 7 or suma % 2 == 0:\n",
    "            exitos += 1  # Si cumple la condición, incrementamos el contador\n",
    "            lista_exitos.append((dado1, dado2))  \n",
    "    \n",
    "    # Calculamos la probabilidad\n",
    "    probabilidad = exitos / n\n",
    "    return probabilidad, suma_total, exitos, lista_exitos\n",
    "\n",
    "# Número de simulaciones\n",
    "n = 1000\n",
    "probabilidad, suma_total, exitos, lista_exitos = simulacion_dados(n)\n",
    "\n",
    "print(f\"La probabilidad estimada de que la suma sea mayor a 7 o un número par es: {probabilidad}\")\n",
    "print(f\"La suma total de todas las tiradas es: {suma_total}\")\n",
    "print(f\"Número de veces en las que la suma de la tirada fue mayor a 7 o un número par: {exitos}\")\n",
    "print(f\"Las tiradas exitosas fueron: {lista_exitos}\")  \n"
   ]
  },
  {
   "cell_type": "markdown",
   "id": "55732bca",
   "metadata": {},
   "source": [
    "## Ejercicio 2\n",
    "\n",
    "Una caja contiene 10 bolas blancas, 20 bolas rojas y 30 bolas verdes. Si tomamos 5 bolas de la caja reemplazándolas (tomando una bola, anotando el color y luego regresandola a la caja). Queremos saber la probabilidad de:\n",
    "\n",
    "1. Tomar 3 blancas y 2 rojas.\n",
    "2. Toas todas del mismo color.\n",
    "\n",
    "Ejecuta el experimento 1000 veces y calcula las probabilidades que mencionadas."
   ]
  },
  {
   "cell_type": "code",
   "execution_count": 9,
   "id": "23244d20",
   "metadata": {},
   "outputs": [
    {
     "name": "stdout",
     "output_type": "stream",
     "text": [
      "{0: 'White', 1: 'White', 2: 'White', 3: 'White', 4: 'White', 5: 'White', 6: 'White', 7: 'White', 8: 'White', 9: 'White', 10: 'Red', 11: 'Red', 12: 'Red', 13: 'Red', 14: 'Red', 15: 'Red', 16: 'Red', 17: 'Red', 18: 'Red', 19: 'Red', 20: 'Red', 21: 'Red', 22: 'Red', 23: 'Red', 24: 'Red', 25: 'Red', 26: 'Red', 27: 'Red', 28: 'Red', 29: 'Red', 30: 'Green', 31: 'Green', 32: 'Green', 33: 'Green', 34: 'Green', 35: 'Green', 36: 'Green', 37: 'Green', 38: 'Green', 39: 'Green', 40: 'Green', 41: 'Green', 42: 'Green', 43: 'Green', 44: 'Green', 45: 'Green', 46: 'Green', 47: 'Green', 48: 'Green', 49: 'Green', 50: 'Green', 51: 'Green', 52: 'Green', 53: 'Green', 54: 'Green', 55: 'Green', 56: 'Green', 57: 'Green', 58: 'Green', 59: 'Green'}\n",
      "Probabilidad de sacar 3 bolas blancas y 2 bolas rojas: 0.005\n",
      "Probabilidad de que todas las bolas sean del mismo color: 0.045\n"
     ]
    }
   ],
   "source": [
    "\n",
    "ball_box = {}\n",
    "\n",
    "# Crea la cajas con las bolas\n",
    "for i in range(60):\n",
    "    if i < 10:\n",
    "        ball_box[i] = \"White\"\n",
    "    elif (i > 9) and (i < 30):\n",
    "        ball_box[i] = \"Red\"\n",
    "    else:\n",
    "        ball_box[i] = \"Green\"\n",
    "\n",
    "print(ball_box)\n",
    "\n",
    "n_experimentos=1000\n",
    "n_eventos=60\n",
    "probabilidad_bola_blanca=1/6\n",
    "probabilidad_bola_roja=1/3\n",
    "probabilidad_bola_verde=1/2\n",
    "#contadores eventos\n",
    "eventos_3_blancas_2_rojas = 0\n",
    "eventos_todas_mismo_color = 0\n",
    "\n",
    "def juego_bolas():\n",
    "    global eventos_3_blancas_2_rojas, eventos_todas_mismo_color\n",
    "    for _ in range(n_experimentos):\n",
    "        # Extraer una bola a la vez y anotamos el color (con reemplazo)\n",
    "        bolas_extraidas = []\n",
    "        for _ in range(5):\n",
    "            bola_extraida = np.random.choice(list(ball_box.values()))  # Elegimos una bola al azar\n",
    "            bolas_extraidas.append(bola_extraida)\n",
    "        \n",
    "        # Contamos cuántas bolas de cada color fueron extraídas\n",
    "        blancas = bolas_extraidas.count(\"White\")\n",
    "        rojas = bolas_extraidas.count(\"Red\")\n",
    "        verdes = bolas_extraidas.count(\"Green\")\n",
    "\n",
    "        # Comprobamos el primer evento: 3 bolas blancas y 2 bolas rojas\n",
    "        if blancas == 3 and rojas == 2:\n",
    "            eventos_3_blancas_2_rojas += 1\n",
    "\n",
    "        # Comprobamos el segundo evento: todas las bolas del mismo color\n",
    "        if blancas == 5 or rojas == 5 or verdes == 5:\n",
    "            eventos_todas_mismo_color += 1\n",
    "\n",
    "# Ejecutamos el experimento\n",
    "juego_bolas()\n",
    "\n",
    "# Calculamos las probabilidades de los eventos\n",
    "probabilidad_3_blancas_2_rojas = eventos_3_blancas_2_rojas / n_experimentos\n",
    "probabilidad_todas_mismo_color = eventos_todas_mismo_color / n_experimentos\n",
    "\n",
    "# Mostramos los resultados\n",
    "print(f\"Probabilidad de sacar 3 bolas blancas y 2 bolas rojas: {probabilidad_3_blancas_2_rojas}\")\n",
    "print(f\"Probabilidad de que todas las bolas sean del mismo color: {probabilidad_todas_mismo_color}\")"
   ]
  }
 ],
 "metadata": {
  "kernelspec": {
   "display_name": "Python 3",
   "language": "python",
   "name": "python3"
  },
  "language_info": {
   "codemirror_mode": {
    "name": "ipython",
    "version": 3
   },
   "file_extension": ".py",
   "mimetype": "text/x-python",
   "name": "python",
   "nbconvert_exporter": "python",
   "pygments_lexer": "ipython3",
   "version": "3.11.4"
  }
 },
 "nbformat": 4,
 "nbformat_minor": 5
}
